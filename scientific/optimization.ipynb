{
 "cells": [
  {
   "cell_type": "markdown",
   "metadata": {},
   "source": [
    "# Optimization\n",
    "\n",
    "**Prerequisites**\n",
    "\n",
    "- [Introduction to Numpy](numpy_arrays.ipynb)  \n",
    "- [Applied Linear Algebra](applied_linalg.ipynb)  \n",
    "\n",
    "\n",
    "**Outcomes**\n",
    "\n",
    "- Perform optimization by hand using derivatives  \n",
    "- Understand ideas from gradient descent  "
   ]
  },
  {
   "cell_type": "markdown",
   "metadata": {},
   "source": [
    "## Outline\n",
    "\n",
    "- [Optimization](#Optimization)  \n",
    "  - [What is Optimization?](#What-is-Optimization?)  \n",
    "  - [Exercises](#Exercises)  "
   ]
  },
  {
   "cell_type": "code",
   "execution_count": 9,
   "metadata": {
    "hide-output": false
   },
   "outputs": [],
   "source": [
    "# Uncomment following line to install on colab\n",
    "#! pip install qeds"
   ]
  },
  {
   "cell_type": "code",
   "execution_count": 10,
   "metadata": {
    "hide-output": false
   },
   "outputs": [],
   "source": [
    "# imports for later\n",
    "import numpy as np\n",
    "import matplotlib.pyplot as plt\n",
    "%matplotlib inline\n",
    "# activate plot theme\n",
    "import qeds\n",
    "qeds.themes.mpl_style();"
   ]
  },
  {
   "cell_type": "markdown",
   "metadata": {},
   "source": [
    "## What is Optimization?\n",
    "\n",
    "Optimization is the branch of mathematics focused on finding extreme values (max or min) of\n",
    "functions.\n",
    "\n",
    "Optimization tools will appear in many places throughout this course, including:\n",
    "\n",
    "- Building economic models in which individuals make decisions that maximize their utility.  \n",
    "- Building statistical models and maximizing the fit of these models by optimizing certain fit\n",
    "  functions.  \n",
    "\n",
    "\n",
    "In this lecture, we will focus mostly on the first to limit the moving pieces, but in other lectures, we’ll discuss the second in detail."
   ]
  },
  {
   "cell_type": "markdown",
   "metadata": {},
   "source": [
    "### Derivatives and Optima\n",
    "\n",
    "Here, we revisit some of the theory that you have already learned in your calculus class.\n",
    "\n",
    "Consider function $ f(x) $ which maps a number into another number. We can say that any point\n",
    "where $ f'(x) = 0 $ is a local extremum of $ f $.\n",
    "\n",
    "Let’s work through an example. Consider the function\n",
    "\n",
    "$$\n",
    "f(x) = x^4 - 3 x^2\n",
    "$$\n",
    "\n",
    "Its derivative is given by\n",
    "\n",
    "$$\n",
    "\\frac{\\partial f}{\\partial x} = 4 x^3 - 6 x\n",
    "$$\n",
    "\n",
    "Let’s plot the function and its derivative to pick out the local extremum by hand."
   ]
  },
  {
   "cell_type": "code",
   "execution_count": 11,
   "metadata": {
    "hide-output": false
   },
   "outputs": [
    {
     "data": {
      "image/png": "[encoded data removed]",
      "text/plain": [
       "<Figure size 432x288 with 2 Axes>"
      ]
     },
     "metadata": {},
     "output_type": "display_data"
    }
   ],
   "source": [
    "def f(x):\n",
    "    return x**4 - 3*x**2\n",
    "\n",
    "\n",
    "def fp(x):\n",
    "    return 4*x**3 - 6*x\n",
    "\n",
    "# Create 100 evenly spaced points between -2 and 2\n",
    "x = np.linspace(-2., 2., 100)\n",
    "\n",
    "# Evaluate the functions at x values\n",
    "fx = f(x)\n",
    "fpx = fp(x)\n",
    "\n",
    "# Create plot\n",
    "fig, ax = plt.subplots(1, 2)\n",
    "\n",
    "ax[0].plot(x, fx)\n",
    "ax[0].set_title(\"Function\")\n",
    "\n",
    "ax[1].plot(x, fpx)\n",
    "ax[1].hlines(0.0, -2.5, 2.5, color=\"k\", linestyle=\"--\")\n",
    "ax[1].set_title(\"Derivative\")\n",
    "\n",
    "for _ax in ax:\n",
    "    _ax.spines[\"right\"].set_visible(False)\n",
    "    _ax.spines[\"top\"].set_visible(False)"
   ]
  },
  {
   "cell_type": "markdown",
   "metadata": {},
   "source": [
    "If you stare at this picture, you can probably determine the the local maximum is at\n",
    "$ x = 0 $ and the local minima at $ x \\approx -1 $ and $ x \\approx 1 $.\n",
    "\n",
    "To properly determine the minima and maxima, we find the solutions to $ f'(x) = 0 $ below:\n",
    "\n",
    "$$\n",
    "f'(x) = 4 x^3 - 6 x = 0\n",
    "$$\n",
    "\n",
    "$$\n",
    "\\rightarrow x = \\{0, \\frac{\\sqrt{6}}{2}, \\frac{-\\sqrt{6}}{2} \\}\n",
    "$$\n",
    "\n",
    "Let’s check whether we can get the same answers with Python! To do this, we import a new\n",
    "package that we haven’t seen yet."
   ]
  },
  {
   "cell_type": "code",
   "execution_count": 12,
   "metadata": {
    "hide-output": false
   },
   "outputs": [],
   "source": [
    "import scipy.optimize as opt"
   ]
  },
  {
   "cell_type": "code",
   "execution_count": 13,
   "metadata": {},
   "outputs": [
    {
     "data": {
      "text/plain": [
       "\u001b[0;31mSignature:\u001b[0m\n",
       "\u001b[0mopt\u001b[0m\u001b[0;34m.\u001b[0m\u001b[0mminimize_scalar\u001b[0m\u001b[0;34m(\u001b[0m\u001b[0;34m\u001b[0m\n",
       "\u001b[0;34m\u001b[0m    \u001b[0mfun\u001b[0m\u001b[0;34m,\u001b[0m\u001b[0;34m\u001b[0m\n",
       "\u001b[0;34m\u001b[0m    \u001b[0mbracket\u001b[0m\u001b[0;34m=\u001b[0m\u001b[0;32mNone\u001b[0m\u001b[0;34m,\u001b[0m\u001b[0;34m\u001b[0m\n",
       "\u001b[0;34m\u001b[0m    \u001b[0mbounds\u001b[0m\u001b[0;34m=\u001b[0m\u001b[0;32mNone\u001b[0m\u001b[0;34m,\u001b[0m\u001b[0;34m\u001b[0m\n",
       "\u001b[0;34m\u001b[0m    \u001b[0margs\u001b[0m\u001b[0;34m=\u001b[0m\u001b[0;34m(\u001b[0m\u001b[0;34m)\u001b[0m\u001b[0;34m,\u001b[0m\u001b[0;34m\u001b[0m\n",
       "\u001b[0;34m\u001b[0m    \u001b[0mmethod\u001b[0m\u001b[0;34m=\u001b[0m\u001b[0;34m'brent'\u001b[0m\u001b[0;34m,\u001b[0m\u001b[0;34m\u001b[0m\n",
       "\u001b[0;34m\u001b[0m    \u001b[0mtol\u001b[0m\u001b[0;34m=\u001b[0m\u001b[0;32mNone\u001b[0m\u001b[0;34m,\u001b[0m\u001b[0;34m\u001b[0m\n",
       "\u001b[0;34m\u001b[0m    \u001b[0moptions\u001b[0m\u001b[0;34m=\u001b[0m\u001b[0;32mNone\u001b[0m\u001b[0;34m,\u001b[0m\u001b[0;34m\u001b[0m\n",
       "\u001b[0;34m\u001b[0m\u001b[0;34m)\u001b[0m\u001b[0;34m\u001b[0m\u001b[0;34m\u001b[0m\u001b[0m\n",
       "\u001b[0;31mDocstring:\u001b[0m\n",
       "Minimization of scalar function of one variable.\n",
       "\n",
       "Parameters\n",
       "----------\n",
       "fun : callable\n",
       "    Objective function.\n",
       "    Scalar function, must return a scalar.\n",
       "bracket : sequence, optional\n",
       "    For methods 'brent' and 'golden', `bracket` defines the bracketing\n",
       "    interval and can either have three items ``(a, b, c)`` so that\n",
       "    ``a < b < c`` and ``fun(b) < fun(a), fun(c)`` or two items ``a`` and\n",
       "    ``c`` which are assumed to be a starting interval for a downhill\n",
       "    bracket search (see `bracket`); it doesn't always mean that the\n",
       "    obtained solution will satisfy ``a <= x <= c``.\n",
       "bounds : sequence, optional\n",
       "    For method 'bounded', `bounds` is mandatory and must have two items\n",
       "    corresponding to the optimization bounds.\n",
       "args : tuple, optional\n",
       "    Extra arguments passed to the objective function.\n",
       "method : str or callable, optional\n",
       "    Type of solver.  Should be one of:\n",
       "\n",
       "        - 'Brent'     :ref:`(see here) <optimize.minimize_scalar-brent>`\n",
       "        - 'Bounded'   :ref:`(see here) <optimize.minimize_scalar-bounded>`\n",
       "        - 'Golden'    :ref:`(see here) <optimize.minimize_scalar-golden>`\n",
       "        - custom - a callable object (added in version 0.14.0), see below\n",
       "\n",
       "tol : float, optional\n",
       "    Tolerance for termination. For detailed control, use solver-specific\n",
       "    options.\n",
       "options : dict, optional\n",
       "    A dictionary of solver options.\n",
       "\n",
       "        maxiter : int\n",
       "            Maximum number of iterations to perform.\n",
       "        disp : bool\n",
       "            Set to True to print convergence messages.\n",
       "\n",
       "    See :func:`show_options()` for solver-specific options.\n",
       "\n",
       "Returns\n",
       "-------\n",
       "res : OptimizeResult\n",
       "    The optimization result represented as a ``OptimizeResult`` object.\n",
       "    Important attributes are: ``x`` the solution array, ``success`` a\n",
       "    Boolean flag indicating if the optimizer exited successfully and\n",
       "    ``message`` which describes the cause of the termination. See\n",
       "    `OptimizeResult` for a description of other attributes.\n",
       "\n",
       "See also\n",
       "--------\n",
       "minimize : Interface to minimization algorithms for scalar multivariate\n",
       "    functions\n",
       "show_options : Additional options accepted by the solvers\n",
       "\n",
       "Notes\n",
       "-----\n",
       "This section describes the available solvers that can be selected by the\n",
       "'method' parameter. The default method is *Brent*.\n",
       "\n",
       "Method :ref:`Brent <optimize.minimize_scalar-brent>` uses Brent's\n",
       "algorithm to find a local minimum.  The algorithm uses inverse\n",
       "parabolic interpolation when possible to speed up convergence of\n",
       "the golden section method.\n",
       "\n",
       "Method :ref:`Golden <optimize.minimize_scalar-golden>` uses the\n",
       "golden section search technique. It uses analog of the bisection\n",
       "method to decrease the bracketed interval. It is usually\n",
       "preferable to use the *Brent* method.\n",
       "\n",
       "Method :ref:`Bounded <optimize.minimize_scalar-bounded>` can\n",
       "perform bounded minimization. It uses the Brent method to find a\n",
       "local minimum in the interval x1 < xopt < x2.\n",
       "\n",
       "**Custom minimizers**\n",
       "\n",
       "It may be useful to pass a custom minimization method, for example\n",
       "when using some library frontend to minimize_scalar.  You can simply\n",
       "pass a callable as the ``method`` parameter.\n",
       "\n",
       "The callable is called as ``method(fun, args, **kwargs, **options)``\n",
       "where ``kwargs`` corresponds to any other parameters passed to `minimize`\n",
       "(such as `bracket`, `tol`, etc.), except the `options` dict, which has\n",
       "its contents also passed as `method` parameters pair by pair.  The method\n",
       "shall return an `OptimizeResult` object.\n",
       "\n",
       "The provided `method` callable must be able to accept (and possibly ignore)\n",
       "arbitrary parameters; the set of parameters accepted by `minimize` may\n",
       "expand in future versions and then these parameters will be passed to\n",
       "the method.  You can find an example in the scipy.optimize tutorial.\n",
       "\n",
       ".. versionadded:: 0.11.0\n",
       "\n",
       "Examples\n",
       "--------\n",
       "Consider the problem of minimizing the following function.\n",
       "\n",
       ">>> def f(x):\n",
       "...     return (x - 2) * x * (x + 2)**2\n",
       "\n",
       "Using the *Brent* method, we find the local minimum as:\n",
       "\n",
       ">>> from scipy.optimize import minimize_scalar\n",
       ">>> res = minimize_scalar(f)\n",
       ">>> res.x\n",
       "1.28077640403\n",
       "\n",
       "Using the *Bounded* method, we find a local minimum with specified\n",
       "bounds as:\n",
       "\n",
       ">>> res = minimize_scalar(f, bounds=(-3, -1), method='bounded')\n",
       ">>> res.x\n",
       "-2.0000002026\n",
       "\u001b[0;31mFile:\u001b[0m      /opt/conda/lib/python3.8/site-packages/scipy/optimize/_minimize.py\n",
       "\u001b[0;31mType:\u001b[0m      function\n"
      ]
     },
     "metadata": {},
     "output_type": "display_data"
    }
   ],
   "source": [
    "?opt.minimize_scalar"
   ]
  },
  {
   "cell_type": "markdown",
   "metadata": {},
   "source": [
    "Then using the function definitions from earlier, we search for the minimum and maximum values."
   ]
  },
  {
   "cell_type": "code",
   "execution_count": 14,
   "metadata": {
    "hide-output": false
   },
   "outputs": [
    {
     "name": "stdout",
     "output_type": "stream",
     "text": [
      "The negative minimum is: \n",
      "      fun: -2.2499999999999996\n",
      "    nfev: 16\n",
      "     nit: 12\n",
      " success: True\n",
      "       x: -1.2247448697638397\n",
      "The positive minimum is: \n",
      "      fun: -2.2499999999999996\n",
      "    nfev: 16\n",
      "     nit: 12\n",
      " success: True\n",
      "       x: 1.2247448697638397\n",
      "1.224744871391589\n"
     ]
    }
   ],
   "source": [
    "# For a scalar problem, we give it the function and the bounds between\n",
    "# which we want to search\n",
    "neg_min = opt.minimize_scalar(f, [-2, -0.5])\n",
    "pos_min = opt.minimize_scalar(f, [0.5, 2.0])\n",
    "print(\"The negative minimum is: \\n\", neg_min)\n",
    "print(\"The positive minimum is: \\n\", pos_min)\n",
    "print(np.sqrt(6)/2)"
   ]
  },
  {
   "cell_type": "markdown",
   "metadata": {},
   "source": [
    "The scipy optimize package only has functions that find minimums… You might be wondering, then, how we\n",
    "will verify our maximum value.\n",
    "\n",
    "It turns out that finding the maximum is equivalent to simply finding the minimum of the negative function."
   ]
  },
  {
   "cell_type": "code",
   "execution_count": 15,
   "metadata": {
    "hide-output": false
   },
   "outputs": [
    {
     "name": "stdout",
     "output_type": "stream",
     "text": [
      "The maximum is: \n",
      "      fun: 1.1519919564363613e-23\n",
      "    nfev: 13\n",
      "     nit: 9\n",
      " success: True\n",
      "       x: 1.9595849530247992e-12\n"
     ]
    }
   ],
   "source": [
    "# Create a function that evaluates to negative f\n",
    "def neg_f(x):\n",
    "    return -f(x)\n",
    "\n",
    "max_out = opt.minimize_scalar(neg_f, [-0.35, 0.35])\n",
    "print(\"The maximum is: \\n\", max_out)"
   ]
  },
  {
   "cell_type": "markdown",
   "metadata": {},
   "source": [
    "We won’t dive into the details of optimization algorithms in this lecture, but we’ll impart some brief\n",
    "intuition to help you understand the types of problems these algorithms are good at solving and\n",
    "the types of problems they will struggle with:\n",
    "\n",
    "The general intuition is that when you’re finding a maximum, an algorithm takes a step\n",
    "in the direction of the derivative… (Conversely, to find a minimum, the algorithm takes a step opposite the direction of the derivative.)\n",
    "This requires the function to be relatively smooth and continuous. The algorithm also has an easier time if there is only one (or very few) extremum to be found…\n",
    "\n",
    "For minimization, you can imagine the algorithm as a marble in a bowl.\n",
    "\n",
    "The marble will keep rolling down the slope of the bowl until it finds the bottom.\n",
    "\n",
    "It may overshoot, but once it hits the slope on the other side, it will continue to roll back\n",
    "and forth until it comes to rest.\n",
    "\n",
    "Thus, when deciding whether numerical optimization is an effective method for a\n",
    "particular problem, you could try visualizing the function to determine whether a marble\n",
    "would be able to come to rest at the extreme values you are looking for."
   ]
  },
  {
   "cell_type": "markdown",
   "metadata": {},
   "source": [
    "### Application: Consumer Theory\n",
    "\n",
    "A common use of maximization in economics is to model\n",
    "optimal consumption decisions <https://en.wikipedia.org/wiki/Consumer_choice>."
   ]
  },
  {
   "cell_type": "markdown",
   "metadata": {},
   "source": [
    "#### Preferences and Utility Functions\n",
    "\n",
    "To summarize introductory economics, take a set of\n",
    "[preferences](https://en.wikipedia.org/wiki/Preference_%28economics%29) of consumers over “bundles”\n",
    "of goods (e.g. 2 apples and 3 oranges is preferred to 3 apples and 2 oranges, or a 100% chance to\n",
    "win $ 1 $ dollar is preferred to a 50% chance to win $ 2.10 $ dollars).\n",
    "\n",
    "Under certain assumptions, you rationalize the preferences as a utility function over the different\n",
    "goods (always remembering that the utility is simply a tool to order preferences and the numbers are\n",
    "usually not meaningful themselves).\n",
    "\n",
    "For example, consider a utility function over bundles of bananas (B) and apples (A)\n",
    "\n",
    "$$\n",
    "U(B, A) = B^{\\alpha}A^{1-\\alpha}\n",
    "$$\n",
    "\n",
    "Where $ \\alpha \\in [0,1] $.\n",
    "\n",
    "First, let’s take a look at this particular utility function."
   ]
  },
  {
   "cell_type": "code",
   "execution_count": 16,
   "metadata": {
    "hide-output": false
   },
   "outputs": [
    {
     "data": {
      "text/plain": [
       "Text(0, 0.5, 'U(B=1.5, A)')"
      ]
     },
     "execution_count": 16,
     "metadata": {},
     "output_type": "execute_result"
    },
    {
     "data": {
      "image/png": "[encoded data removed]",
      "text/plain": [
       "<Figure size 432x288 with 1 Axes>"
      ]
     },
     "metadata": {},
     "output_type": "display_data"
    }
   ],
   "source": [
    "def U(A, B, alpha=1/3):\n",
    "    return B**alpha * A**(1-alpha)\n",
    "\n",
    "fig, ax = plt.subplots()\n",
    "B = 1.5\n",
    "A = np.linspace(1, 10, 100)\n",
    "ax.plot(A, U(A, B))\n",
    "ax.set_xlabel(\"A\")\n",
    "ax.set_ylabel(\"U(B=1.5, A)\")"
   ]
  },
  {
   "cell_type": "markdown",
   "metadata": {},
   "source": [
    "We note that\n",
    "\n",
    "- \n",
    "  <dl style='margin: 20px 0;'>\n",
    "  <dt>$ U(B,1) $ is always higher with more $ B $, hence, consuming more bananas has a</dt>\n",
    "  <dd>\n",
    "  positive marginal utility  i.e. $ \\frac{d U(B,1)}{d B} > 0 $.  \n",
    "  </dd>\n",
    "  \n",
    "  </dl>\n",
    "  \n",
    "- The more bananas we consume, the smaller the change in marginal utility, i.e.\n",
    "  $ \\frac{d^2 U(B,1)}{d B^2} < 0 $.  \n",
    "\n",
    "\n",
    "If we plot both the $ B $ and the $ A $, we can see how the utility changes with different\n",
    "bundles."
   ]
  },
  {
   "cell_type": "code",
   "execution_count": 17,
   "metadata": {
    "hide-output": false
   },
   "outputs": [
    {
     "data": {
      "text/plain": [
       "Text(0.5, 1.0, 'U(A,B)')"
      ]
     },
     "execution_count": 17,
     "metadata": {},
     "output_type": "execute_result"
    },
    {
     "data": {
      "image/png": "[encoded data removed]",
      "text/plain": [
       "<Figure size 432x288 with 2 Axes>"
      ]
     },
     "metadata": {},
     "output_type": "display_data"
    }
   ],
   "source": [
    "fig, ax = plt.subplots()\n",
    "B = np.linspace(1, 20, 100).reshape((100, 1))\n",
    "contours = ax.contourf(A, B.flatten(), U(A, B))\n",
    "fig.colorbar(contours)\n",
    "ax.set_xlabel(\"A\")\n",
    "ax.set_ylabel(\"B\")\n",
    "ax.set_title(\"U(A,B)\")"
   ]
  },
  {
   "cell_type": "markdown",
   "metadata": {},
   "source": [
    "We can find the bundles between which the consumer would be indifferent by fixing a\n",
    "utility $ \\bar{U} $ and by determining all combinations of $ A $ and $ B $ where\n",
    "$ \\bar{U} = U(B, A) $.\n",
    "\n",
    "In this example, we can implement this calculation by letting $ B $ be the variable on the\n",
    "x-axis and solving for $ A(\\bar{U}, B) $\n",
    "\n",
    "$$\n",
    "A(B, \\bar{U}) = U^{\\frac{1}{1-\\alpha}}B^{\\frac{-\\alpha}{1-\\alpha}}\n",
    "$$"
   ]
  },
  {
   "cell_type": "code",
   "execution_count": 39,
   "metadata": {
    "hide-output": false
   },
   "outputs": [
    {
     "data": {
      "image/png": "[encoded data removed]",
      "text/plain": [
       "<Figure size 432x288 with 1 Axes>"
      ]
     },
     "metadata": {},
     "output_type": "display_data"
    }
   ],
   "source": [
    "def A_indifference(B, ubar, alpha=1/3):\n",
    "    return ubar**(1/(1-alpha)) * B**(-alpha/(1-alpha))\n",
    "\n",
    "def plot_indifference_curves(ax, alpha=1/3):\n",
    "    ubar = np.arange(1, 11, 2)\n",
    "    ax.plot(B, A_indifference(B, ubar, alpha))\n",
    "    ax.legend([r\"$\\bar{U}$\" + \" = {}\".format(i) for i in ubar])\n",
    "    ax.set_xlabel(\"B\")\n",
    "    ax.set_ylabel(r\"$A(B, \\bar{U}$)\")\n",
    "\n",
    "fig, ax = plt.subplots()\n",
    "plot_indifference_curves(ax)"
   ]
  },
  {
   "cell_type": "markdown",
   "metadata": {},
   "source": [
    "Note that in every case, if you increase either the number of apples or bananas (holding the other\n",
    "fixed), you reach a higher indifference curve.\n",
    "\n",
    "Consequently, in a world without scarcity or budgets, consumers would consume\n",
    "an arbitrarily high number of both to maximize their utility."
   ]
  },
  {
   "cell_type": "markdown",
   "metadata": {},
   "source": [
    "#### Budget Constraints\n",
    "\n",
    "While the above example plots consumer preferences, it says nothing about what the consumers can afford.\n",
    "\n",
    "The simplest sort of constraint is a budget constraint where bananas and apples both have a price\n",
    "and the consumer has a limited amount of funds.\n",
    "\n",
    "If the prices per banana and per apple are identical, no matter how many you consume, then the\n",
    "affordable bundles are simply all pairs of apples and bananas below the line.\n",
    "$ p_a A + p_b B \\leq W $.\n",
    "\n",
    "For example, if consumer has a budget of $ W $, the price of apples is $ p_A = 2 $ dollars per\n",
    "apple, and the price of bananas is normalized to be $ p_B = 1 $ dollar per banana, then the consumer\n",
    "can afford anything below the line.\n",
    "\n",
    "$$\n",
    "2 A + B \\leq W\n",
    "$$\n",
    "\n",
    "Or, letting $ W = 20 $ and plotting"
   ]
  },
  {
   "cell_type": "code",
   "execution_count": 40,
   "metadata": {
    "hide-output": false
   },
   "outputs": [
    {
     "data": {
      "text/plain": [
       "<matplotlib.axes._subplots.AxesSubplot at 0x7fa860b1dc10>"
      ]
     },
     "execution_count": 40,
     "metadata": {},
     "output_type": "execute_result"
    },
    {
     "data": {
      "image/png": "[encoded data removed]",
      "text/plain": [
       "<Figure size 432x288 with 1 Axes>"
      ]
     },
     "metadata": {},
     "output_type": "display_data"
    }
   ],
   "source": [
    "def A_bc(B, W=20, pa=2):\n",
    "    \"Given B, W, and pa return the max amount of A our consumer can afford\"\n",
    "    return (W - B) / pa\n",
    "\n",
    "def plot_budget_constraint(ax, W=20, pa=2):\n",
    "    B_bc = np.array([0, W])\n",
    "    A = A_bc(B_bc, W, pa)\n",
    "    ax.plot(B_bc, A)\n",
    "    ax.fill_between(B_bc, 0, A, alpha=0.2)\n",
    "    ax.set_xlabel(\"B\")\n",
    "    ax.set_ylabel(\"A\")\n",
    "    return ax\n",
    "\n",
    "fig, ax = plt.subplots()\n",
    "plot_budget_constraint(ax, 20, 2)"
   ]
  },
  {
   "cell_type": "markdown",
   "metadata": {},
   "source": [
    "While the consumer can afford any of the bundles in that area, most will not be optimal."
   ]
  },
  {
   "cell_type": "markdown",
   "metadata": {},
   "source": [
    "#### Optimal Choice\n",
    "\n",
    "Putting the budget constraints and the utility functions together lets us visualize the optimal\n",
    "decision of a consumer. Choose the bundle with the highest possible indifference curve within its\n",
    "budget set."
   ]
  },
  {
   "cell_type": "code",
   "execution_count": 41,
   "metadata": {
    "hide-output": false
   },
   "outputs": [
    {
     "data": {
      "text/plain": [
       "<matplotlib.axes._subplots.AxesSubplot at 0x7fa8620ba940>"
      ]
     },
     "execution_count": 41,
     "metadata": {},
     "output_type": "execute_result"
    },
    {
     "data": {
      "image/png": "[encoded data removed]",
      "text/plain": [
       "<Figure size 432x288 with 1 Axes>"
      ]
     },
     "metadata": {},
     "output_type": "display_data"
    }
   ],
   "source": [
    "fig, ax = plt.subplots()\n",
    "plot_indifference_curves(ax)\n",
    "plot_budget_constraint(ax)"
   ]
  },
  {
   "cell_type": "markdown",
   "metadata": {},
   "source": [
    "We have several ways to find the particular point $ A, B $ of maximum utility, such as\n",
    "finding the point where the indifference curve and the budget constraint have the same slope, but a\n",
    "simple approach is to just solve the direct maximization problem.\n",
    "\n",
    "$$\n",
    "\\begin{aligned}\n",
    "\\max_{A, B} & B^{\\alpha}A^{1-\\alpha}\\\\\n",
    "\\text{s.t. } & p_A A + B \\leq W\n",
    "\\end{aligned}\n",
    "$$\n",
    "\n",
    "Solving this problem directly requires solving a multi-dimensional constrained optimization problem,\n",
    "where scipy <https://docs.scipy.org/doc/scipy/reference/tutorial/optimize.html#constrained-minimization-of-multivariate-scalar-functions-minimize>\n",
    "has several options.\n",
    "\n",
    "For this particular problem, we notice two things: (1) The utility function is increasing in both\n",
    "$ A $ and $ B $, and (2) there are only 2 goods.\n",
    "\n",
    "This allows us 1) to assume that the budget constraint holds at equality, $ p_a A + B = W $, 2) to\n",
    "form a new function $ A(B) = (W - B) / p_a $ by rearranging the budget constraint at equality, and\n",
    "3) to substitute that function directly to form:\n",
    "\n",
    "$$\n",
    "\\max_{B}  B^{\\alpha}A(B)^{1-\\alpha}\n",
    "$$\n",
    "\n",
    "Compared to before, this problem has been turned into an unconstrained univariate optimization\n",
    "problem.\n",
    "\n",
    "To implement this in code, notice that the $ A(B) $ function is what we defined before\n",
    "as `A_bc`.\n",
    "\n",
    "We will solve this by using the function `scipy.optimize.minimize_scalar`, which takes a function\n",
    "`f(x)` and returns the value of `x` that minimizes `f`."
   ]
  },
  {
   "cell_type": "code",
   "execution_count": 38,
   "metadata": {
    "hide-output": false
   },
   "outputs": [
    {
     "name": "stdout",
     "output_type": "stream",
     "text": [
      "     fun: -6.666666666666667\n",
      "    nfev: 17\n",
      "     nit: 9\n",
      " success: True\n",
      "       x: 6.666666738696083\n",
      "The optimal U is  6.666666666666667\n",
      "and was found at (A,B) = (6.666666630651958, 6.666666738696083)\n"
     ]
    }
   ],
   "source": [
    "from scipy.optimize import minimize_scalar\n",
    "\n",
    "def objective(B, W=20, pa=2):\n",
    "    \"\"\"\n",
    "    Return value of -U for a given B, when we consume as much A as possible\n",
    "\n",
    "    Note that we return -U because scipy wants to minimize functions,\n",
    "    and the value of B that minimizes -U will maximize U\n",
    "    \"\"\"\n",
    "    A = A_bc(B, W, pa)\n",
    "    return -U(A, B)\n",
    "\n",
    "result = minimize_scalar(objective)\n",
    "print(result)\n",
    "optimal_B = result.x\n",
    "optimal_A = A_bc(optimal_B, 20, 2)\n",
    "optimal_U = U(optimal_A, optimal_B)\n",
    "\n",
    "print(\"The optimal U is \", optimal_U)\n",
    "print(\"and was found at (A,B) =\", (optimal_A, optimal_B))"
   ]
  },
  {
   "cell_type": "markdown",
   "metadata": {},
   "source": [
    "This allows us to do experiments, such as examining how consumption patterns change as prices or\n",
    "wealth levels change."
   ]
  },
  {
   "cell_type": "code",
   "execution_count": 42,
   "metadata": {
    "hide-output": false
   },
   "outputs": [
    {
     "data": {
      "text/plain": [
       "<matplotlib.legend.Legend at 0x7fa860416c40>"
      ]
     },
     "execution_count": 42,
     "metadata": {},
     "output_type": "execute_result"
    },
    {
     "data": {
      "image/png": "[encoded data removed]",
      "text/plain": [
       "<Figure size 432x288 with 1 Axes>"
      ]
     },
     "metadata": {},
     "output_type": "display_data"
    }
   ],
   "source": [
    "# Create various prices\n",
    "n_pa = 50\n",
    "prices_A = np.linspace(0.5, 5.0, n_pa)\n",
    "W = 20\n",
    "\n",
    "# Create lists to store the results of the optimal A and B calculation\n",
    "optimal_As = []\n",
    "optimal_Bs = []\n",
    "for pa in prices_A:\n",
    "    result = minimize_scalar(objective, args=(W, pa))\n",
    "    opt_B_val = result.x\n",
    "\n",
    "    optimal_Bs.append(opt_B_val)\n",
    "    optimal_As.append(A_bc(opt_B_val, W, pa))\n",
    "\n",
    "fig, ax = plt.subplots()\n",
    "\n",
    "ax.plot(prices_A, optimal_As, label=\"Purchased Apples\")\n",
    "ax.plot(prices_A, optimal_Bs, label=\"Purchased Bananas\")\n",
    "ax.set_xlabel(\"Price of Apples\")\n",
    "ax.legend()"
   ]
  },
  {
   "cell_type": "markdown",
   "metadata": {},
   "source": [
    "\n",
    "<a id='exercise-0'></a>\n",
    "> See exercise 1 in the [*exercise list*](#exerciselist-0)"
   ]
  },
  {
   "cell_type": "markdown",
   "metadata": {},
   "source": [
    "## Multivariate Optimization\n",
    "\n",
    "Instead of transforming the problem to one of minimization of a function with a scalar argument, we can use `scipy.optimize.minimize` on the original multivariate function with constraints. "
   ]
  },
  {
   "cell_type": "code",
   "execution_count": 43,
   "metadata": {},
   "outputs": [
    {
     "name": "stdout",
     "output_type": "stream",
     "text": [
      "| niter |f evals|CG iter|  obj func   |tr radius |   opt    |  c viol  | penalty  |barrier param|CG stop|\n",
      "|-------|-------|-------|-------------|----------|----------|----------|----------|-------------|-------|\n",
      "|   1   |   3   |   0   | -1.0000e+00 | 1.00e+00 | 6.54e-01 | 0.00e+00 | 1.00e+00 |  1.00e-01   |   0   |\n",
      "|   2   |   6   |   1   | -1.5367e+00 | 5.82e+00 | 5.93e-01 | 0.00e+00 | 1.00e+00 |  1.00e-01   |   4   |\n",
      "|   3   |   9   |   2   | -5.7241e+00 | 4.08e+01 | 2.72e-01 | 0.00e+00 | 1.00e+00 |  1.00e-01   |   2   |\n",
      "|   4   |  12   |   4   | -6.5828e+00 | 4.08e+01 | 9.49e-02 | 0.00e+00 | 1.00e+00 |  1.00e-01   |   1   |\n",
      "|   5   |  12   |   4   | -6.5828e+00 | 2.04e+02 | 9.51e-02 | 0.00e+00 | 1.00e+00 |  2.00e-02   |   0   |\n",
      "|   6   |  15   |   5   | -6.6562e+00 | 2.04e+02 | 2.35e-02 | 0.00e+00 | 1.00e+00 |  2.00e-02   |   4   |\n",
      "|   7   |  18   |   7   | -6.6464e+00 | 2.04e+02 | 2.62e-03 | 0.00e+00 | 1.00e+00 |  2.00e-02   |   1   |\n",
      "|   8   |  18   |   7   | -6.6464e+00 | 1.02e+03 | 2.81e-03 | 0.00e+00 | 1.00e+00 |  4.00e-03   |   0   |\n",
      "|   9   |  21   |   9   | -6.6627e+00 | 1.02e+03 | 1.05e-04 | 0.00e+00 | 1.00e+00 |  4.00e-03   |   1   |\n",
      "|  10   |  21   |   9   | -6.6627e+00 | 5.10e+03 | 1.13e-04 | 0.00e+00 | 1.00e+00 |  8.00e-04   |   0   |\n",
      "|  11   |  24   |  11   | -6.6659e+00 | 5.10e+03 | 5.46e-07 | 0.00e+00 | 1.00e+00 |  8.00e-04   |   1   |\n",
      "|  12   |  24   |  11   | -6.6659e+00 | 2.55e+04 | 8.53e-07 | 0.00e+00 | 1.00e+00 |  1.60e-04   |   0   |\n",
      "|  13   |  27   |  12   | -6.6665e+00 | 2.55e+04 | 2.51e-05 | 0.00e+00 | 1.00e+00 |  1.60e-04   |   4   |\n",
      "|  14   |  27   |  12   | -6.6665e+00 | 1.27e+05 | 2.50e-05 | 0.00e+00 | 1.00e+00 |  3.20e-05   |   0   |\n",
      "|  15   |  30   |  14   | -6.6666e+00 | 1.27e+05 | 6.63e-07 | 0.00e+00 | 1.00e+00 |  3.20e-05   |   1   |\n",
      "|  16   |  30   |  14   | -6.6666e+00 | 6.37e+05 | 6.62e-07 | 0.00e+00 | 1.00e+00 |  6.40e-06   |   0   |\n",
      "|  17   |  33   |  16   | -6.6667e+00 | 6.37e+05 | 5.96e-09 | 0.00e+00 | 1.00e+00 |  6.40e-06   |   1   |\n",
      "\n",
      "`gtol` termination condition is satisfied.\n",
      "Number of iterations: 17, function evaluations: 33, CG iterations: 16, optimality: 5.96e-09, constraint violation: 0.00e+00, execution time: 0.073 s.\n",
      " barrier_parameter: 6.400000000000003e-06\n",
      " barrier_tolerance: 6.400000000000003e-06\n",
      "          cg_niter: 16\n",
      "      cg_stop_cond: 1\n",
      "            constr: [array([19.9999808])]\n",
      "       constr_nfev: [0]\n",
      "       constr_nhev: [0]\n",
      "       constr_njev: [0]\n",
      "    constr_penalty: 1.0\n",
      "  constr_violation: 0.0\n",
      "    execution_time: 0.07345747947692871\n",
      "               fun: -6.666660266657682\n",
      "              grad: array([-0.66666666, -0.33333332])\n",
      "               jac: [array([[2, 1]])]\n",
      "   lagrangian_grad: array([-2.98023528e-09,  5.96047023e-09])\n",
      "           message: '`gtol` termination condition is satisfied.'\n",
      "            method: 'tr_interior_point'\n",
      "              nfev: 33\n",
      "              nhev: 0\n",
      "               nit: 17\n",
      "             niter: 17\n",
      "              njev: 0\n",
      "        optimality: 5.96047022849433e-09\n",
      "            status: 1\n",
      "           success: True\n",
      "         tr_radius: 636948.9919991042\n",
      "                 v: [array([0.33333333])]\n",
      "                 x: array([6.66666029, 6.66666022])\n",
      "Optimal A=6.666660292188707, B=6.666660215595629, U(A,B)=6.666660266657682\n"
     ]
    }
   ],
   "source": [
    "W = 20\n",
    "p = np.array([2,1])\n",
    "# -inf <= p @ x <= W\n",
    "constraint = opt.LinearConstraint(p, -np.inf, W) \n",
    "x0 = np.array([1.0,1.0])\n",
    "res = opt.minimize(lambda x: -U(x[0],x[1]), x0, method='trust-constr', jac=\"2-point\", hess=opt.BFGS(),\n",
    "                   constraints = [constraint], options={'verbose':3})\n",
    "print(res)\n",
    "print(f\"Optimal A={res.x[0]}, B={res.x[1]}, U(A,B)={-res.fun}\")"
   ]
  },
  {
   "cell_type": "code",
   "execution_count": 67,
   "metadata": {},
   "outputs": [
    {
     "name": "stdout",
     "output_type": "stream",
     "text": [
      "Numeric finite difference Jacobian, BFGS Hessian\n",
      "33.1 ms ± 859 µs per loop (mean ± std. dev. of 7 runs, 10 loops each)\n",
      " barrier_parameter: 6.400000000000003e-06\n",
      " barrier_tolerance: 6.400000000000003e-06\n",
      "          cg_niter: 16\n",
      "      cg_stop_cond: 1\n",
      "            constr: [array([19.9999808])]\n",
      "       constr_nfev: [0]\n",
      "       constr_nhev: [0]\n",
      "       constr_njev: [0]\n",
      "    constr_penalty: 1.0\n",
      "  constr_violation: 0.0\n",
      "    execution_time: 0.04530072212219238\n",
      "               fun: -6.666660266657682\n",
      "              grad: array([-0.66666666, -0.33333332])\n",
      "               jac: [array([[2, 1]])]\n",
      "   lagrangian_grad: array([-2.98023528e-09,  5.96047023e-09])\n",
      "           message: '`gtol` termination condition is satisfied.'\n",
      "            method: 'tr_interior_point'\n",
      "              nfev: 33\n",
      "              nhev: 0\n",
      "               nit: 17\n",
      "             niter: 17\n",
      "              njev: 0\n",
      "        optimality: 5.96047022849433e-09\n",
      "            status: 1\n",
      "           success: True\n",
      "         tr_radius: 636948.9919991042\n",
      "                 v: [array([0.33333333])]\n",
      "                 x: array([6.66666029, 6.66666022])\n",
      "Optimal A=6.666660292188707, B=6.666660215595629, U(A,B)=6.666660266657682\n",
      "\n"
     ]
    }
   ],
   "source": [
    "print(\"Numeric finite difference Jacobian, BFGS Hessian\")\n",
    "%timeit  res = opt.minimize(lambda x: -U(x[0],x[1]), x0, method='trust-constr', jac=\"2-point\", hess=opt.BFGS(), constraints = [constraint], options={'verbose':0}, bounds=opt.Bounds([1e-8,1e-8],[np.inf,np.inf]))\n",
    "print(res)\n",
    "print(f\"Optimal A={res.x[0]}, B={res.x[1]}, U(A,B)={-res.fun}\")\n",
    "print(\"\")"
   ]
  },
  {
   "cell_type": "code",
   "execution_count": 45,
   "metadata": {},
   "outputs": [
    {
     "name": "stdout",
     "output_type": "stream",
     "text": [
      "Analytic Jacobian, BFGS Hessian\n",
      "35.6 ms ± 8.76 ms per loop (mean ± std. dev. of 7 runs, 10 loops each)\n",
      " barrier_parameter: 6.400000000000003e-06\n",
      " barrier_tolerance: 6.400000000000003e-06\n",
      "          cg_niter: 17\n",
      "      cg_stop_cond: 1\n",
      "            constr: [array([19.9999808]), array([6.66665707, 6.66666665])]\n",
      "       constr_nfev: [0, 0]\n",
      "       constr_nhev: [0, 0]\n",
      "       constr_njev: [0, 0]\n",
      "    constr_penalty: 1.0\n",
      "  constr_violation: 0.0\n",
      "    execution_time: 0.04133248329162598\n",
      "               fun: -6.666660266657361\n",
      "              grad: array([-0.66666699, -0.33333301])\n",
      "               jac: [array([[2, 1]]), array([[1., 0.],\n",
      "       [0., 1.]])]\n",
      "   lagrangian_grad: array([ 4.13600241e-10, -8.27200503e-10])\n",
      "           message: '`gtol` termination condition is satisfied.'\n",
      "            method: 'tr_interior_point'\n",
      "              nfev: 11\n",
      "              nhev: 0\n",
      "               nit: 17\n",
      "             niter: 17\n",
      "              njev: 11\n",
      "        optimality: 8.27200502949578e-10\n",
      "            status: 1\n",
      "           success: True\n",
      "         tr_radius: 707055.9741244814\n",
      "                 v: [array([0.33333397]), array([-9.60010689e-07, -9.59981391e-07])]\n",
      "                 x: array([6.66665707, 6.66666665])\n",
      "Optimal A=6.66665707371345, B=6.666666652549769, U(A,B)=6.666660266657361\n",
      "\n"
     ]
    }
   ],
   "source": [
    "def dU(x, alpha=1/3) :\n",
    "    out = np.zeros(2)\n",
    "    out[0] = (1-alpha)*(x[1]/x[0])**alpha\n",
    "    out[1] = alpha*(x[0]/x[1])**(1-alpha)\n",
    "    return(-out)\n",
    "    \n",
    "print(\"Analytic Jacobian, BFGS Hessian\")\n",
    "res = opt.minimize(lambda x: -U(x[0],x[1]), x0, method='trust-constr', jac=dU, hess=opt.BFGS(), constraints = [constraint], options={'verbose':0}, bounds=opt.Bounds([1e-8,1e-8],[np.inf,np.inf]))\n",
    "%timeit res = opt.minimize(lambda x: -U(x[0],x[1]), x0, method='trust-constr', jac=dU, hess=opt.BFGS(), constraints = [constraint], options={'verbose':0}, bounds=opt.Bounds([1e-8,1e-8],[np.inf,np.inf]))\n",
    "print(res)\n",
    "print(f\"Optimal A={res.x[0]}, B={res.x[1]}, U(A,B)={-res.fun}\")\n",
    "print(\"\")"
   ]
  },
  {
   "cell_type": "code",
   "execution_count": 46,
   "metadata": {},
   "outputs": [
    {
     "name": "stdout",
     "output_type": "stream",
     "text": [
      "Analytic Jacobian & Hessian\n",
      "| niter |f evals|CG iter|  obj func   |tr radius |   opt    |  c viol  | penalty  |barrier param|CG stop|\n",
      "|-------|-------|-------|-------------|----------|----------|----------|----------|-------------|-------|\n",
      "|   1   |   1   |   0   | -1.0000e+00 | 1.00e+00 | 5.00e-01 | 0.00e+00 | 1.00e+00 |  1.00e-01   |   0   |\n",
      "|   2   |   2   |   1   | -1.6587e+00 | 7.00e+00 | 5.00e-01 | 0.00e+00 | 1.00e+00 |  1.00e-01   |   2   |\n",
      "|   3   |   3   |   2   | -5.9793e+00 | 4.90e+01 | 2.26e-01 | 0.00e+00 | 1.00e+00 |  1.00e-01   |   2   |\n",
      "|   4   |   4   |   4   | -6.5861e+00 | 4.90e+01 | 1.00e-01 | 0.00e+00 | 1.00e+00 |  1.00e-01   |   1   |\n",
      "|   5   |   5   |   6   | -6.5658e+00 | 4.90e+01 | 1.06e-02 | 0.00e+00 | 1.00e+00 |  1.00e-01   |   1   |\n",
      "|   6   |   5   |   6   | -6.5658e+00 | 2.45e+02 | 1.03e-02 | 0.00e+00 | 1.00e+00 |  2.00e-02   |   0   |\n",
      "|   7   |   6   |   7   | -6.6483e+00 | 2.45e+02 | 4.02e-03 | 0.00e+00 | 1.00e+00 |  2.00e-02   |   4   |\n",
      "|   8   |   6   |   7   | -6.6483e+00 | 1.22e+03 | 3.23e-03 | 0.00e+00 | 1.00e+00 |  4.00e-03   |   0   |\n",
      "|   9   |   7   |   9   | -6.6627e+00 | 1.22e+03 | 1.80e-05 | 0.00e+00 | 1.00e+00 |  4.00e-03   |   1   |\n",
      "|  10   |   7   |   9   | -6.6627e+00 | 6.12e+03 | 1.62e-04 | 0.00e+00 | 1.00e+00 |  8.00e-04   |   0   |\n",
      "|  11   |   8   |  11   | -6.6659e+00 | 6.12e+03 | 4.30e-08 | 0.00e+00 | 1.00e+00 |  8.00e-04   |   1   |\n",
      "|  12   |   8   |  11   | -6.6659e+00 | 3.06e+04 | 3.73e-05 | 0.00e+00 | 1.00e+00 |  1.60e-04   |   0   |\n",
      "|  13   |   9   |  13   | -6.6665e+00 | 3.06e+04 | 1.78e-09 | 0.00e+00 | 1.00e+00 |  1.60e-04   |   1   |\n",
      "\n",
      "`gtol` termination condition is satisfied.\n",
      "Number of iterations: 13, function evaluations: 9, CG iterations: 13, optimality: 1.78e-09, constraint violation: 0.00e+00, execution time: 0.051 s.\n",
      "26.4 ms ± 8.42 ms per loop (mean ± std. dev. of 7 runs, 10 loops each)\n",
      " barrier_parameter: 0.00016000000000000007\n",
      " barrier_tolerance: 0.00016000000000000007\n",
      "          cg_niter: 13\n",
      "      cg_stop_cond: 1\n",
      "            constr: [array([19.99951999]), array([6.66642665, 6.66666669])]\n",
      "       constr_nfev: [0, 0]\n",
      "       constr_nhev: [0, 0]\n",
      "       constr_njev: [0, 0]\n",
      "    constr_penalty: 1.0\n",
      "  constr_violation: 0.0\n",
      "    execution_time: 0.05066967010498047\n",
      "               fun: -6.666506661683791\n",
      "              grad: array([-0.66667467, -0.33332533])\n",
      "               jac: [array([[2, 1]]), array([[1., 0.],\n",
      "       [0., 1.]])]\n",
      "   lagrangian_grad: array([-8.91633060e-10,  1.77764799e-09])\n",
      "           message: '`gtol` termination condition is satisfied.'\n",
      "            method: 'tr_interior_point'\n",
      "              nfev: 9\n",
      "              nhev: 9\n",
      "               nit: 13\n",
      "             niter: 13\n",
      "              njev: 9\n",
      "        optimality: 1.7776479912882113e-09\n",
      "            status: 1\n",
      "           success: True\n",
      "         tr_radius: 30624.999999999996\n",
      "                 v: [array([0.33334933]), array([-2.40008441e-05, -2.40000400e-05])]\n",
      "                 x: array([6.66642665, 6.66666669])\n",
      "Optimal A=6.666426651328142, B=6.666666685275948, U(A,B)=6.666506661683791\n",
      "\n"
     ]
    }
   ],
   "source": [
    "def hU(x, alpha=1/3) :\n",
    "    h = np.zeros((2,2))\n",
    "    h[0,0] = -alpha*(1-alpha)*x[1]**alpha*x[0]**(-alpha-1)\n",
    "    h[1,0] = alpha*(1-alpha)*x[1]**(alpha-1)*x[0]**(-alpha)\n",
    "    h[0,1] = h[1,0]\n",
    "    h[1,1] = -alpha*(1-alpha)*x[0]**(1-alpha)*x[1]**(alpha-2)\n",
    "    return(-h)\n",
    "\n",
    "print(\"Analytic Jacobian & Hessian\")\n",
    "res = opt.minimize(lambda x: -U(x[0],x[1]), x0, method='trust-constr', jac=dU, hess=hU, constraints = [constraint], options={'verbose':3}, bounds=opt.Bounds([1e-8,1e-8],[np.inf,np.inf]))\n",
    "%timeit  res = opt.minimize(lambda x: -U(x[0],x[1]), x0, method='trust-constr', jac=dU, hess=hU, constraints = [constraint], options={'verbose':0}, bounds=opt.Bounds([1e-8,1e-8],[np.inf,np.inf]))\n",
    "print(res)\n",
    "print(f\"Optimal A={res.x[0]}, B={res.x[1]}, U(A,B)={-res.fun}\")\n",
    "print(\"\")\n",
    "           "
   ]
  },
  {
   "cell_type": "markdown",
   "metadata": {},
   "source": [
    "#### Satiation Point\n",
    "\n",
    "The above example is a particular utility function where consumers prefer to “eat” as much as\n",
    "possible of every good available, but that may not be the case for all preferences.\n",
    "\n",
    "When an optimum exists for the unconstrained problem (e.g. with an infinite budget), it is called a\n",
    "bliss point, or satiation.\n",
    "\n",
    "Instead of bananas and apples, consider a utility function for potato chips (`P`) and chocolate\n",
    "bars (`C`).\n",
    "\n",
    "$$\n",
    "U(P, C) = -(P - 20)^2 - 2 * (C - 1)^2\n",
    "$$\n",
    "\n",
    "To numerically calculate the maximum (which you can probably see through inspection), one must directly solve the constrained maximization problem.\n",
    "\n",
    "\n",
    "<a id='exercise-1'></a>\n",
    "> See exercise 2 in the [*exercise list*](#exerciselist-0)"
   ]
  },
  {
   "cell_type": "code",
   "execution_count": 14,
   "metadata": {
    "hide-output": false
   },
   "outputs": [],
   "source": [
    "W = 10\n",
    "p_P = 1\n",
    "p_C = 2\n",
    "\n",
    "# Your code here"
   ]
  },
  {
   "cell_type": "code",
   "execution_count": 15,
   "metadata": {
    "hide-output": false
   },
   "outputs": [],
   "source": [
    "# Your code here"
   ]
  },
  {
   "cell_type": "code",
   "execution_count": 16,
   "metadata": {
    "hide-output": false
   },
   "outputs": [],
   "source": [
    "# Your code here"
   ]
  },
  {
   "cell_type": "markdown",
   "metadata": {},
   "source": [
    "## Exercises\n",
    "\n",
    "\n",
    "<a id='exerciselist-0'></a>\n",
    "**Exercise 1**\n",
    "\n",
    "Try solving the constrained maximization problem by hand via the Lagrangian method.\n",
    "\n",
    "Is it surprising that the demand for bananas is unaffected by the change in apple prices?\n",
    "\n",
    "Why might this be?\n",
    "\n",
    "([*back to text*](#exercise-0))\n",
    "\n",
    "**Exercise 2**\n",
    "\n",
    "Using a similar approach to that of the apples/bananas example above, solve for the optimal\n",
    "basket of potato chips and chocolate bars when `W = 10`, `p_P = 1`, and `p_C = 2`.\n",
    "\n",
    "What is the optimal basket if we expand the budget constraint to have `W = 50`?\n",
    "\n",
    "What is the optimal basket if we expand the budget constraint to have `W = 150`?\n",
    "\n",
    "Hint: You can no longer assume that the `A_bc` function is always binding, as we did before, and will need to check results more carefully.\n",
    "\n",
    "Hint: while not required, you can take this opportunity to play around with other scipy functions such as Scipy optimize <https://docs.scipy.org/doc/scipy/reference/tutorial/optimize.html>.\n",
    "\n",
    "([*back to text*](#exercise-1))"
   ]
  }
 ],
 "metadata": {
  "date": 1595397099.8176048,
  "download_nb": false,
  "filename": "optimization.rst",
  "filename_with_path": "scientific/optimization",
  "kernelspec": {
   "display_name": "Python 3",
   "language": "python",
   "name": "python3"
  },
  "language_info": {
   "codemirror_mode": {
    "name": "ipython",
    "version": 3
   },
   "file_extension": ".py",
   "mimetype": "text/x-python",
   "name": "python",
   "nbconvert_exporter": "python",
   "pygments_lexer": "ipython3",
   "version": "3.8.3"
  },
  "title": "Optimization"
 },
 "nbformat": 4,
 "nbformat_minor": 4
}
