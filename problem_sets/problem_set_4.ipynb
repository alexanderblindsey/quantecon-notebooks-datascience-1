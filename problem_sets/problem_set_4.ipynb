{
 "cells": [
  {
   "cell_type": "markdown",
   "metadata": {},
   "source": [
    "# Problem Set 4\n",
    "\n",
    "See “Check Your Understanding” from [Applied Linear Algebra](../scientific/applied_linalg.ipynb) and [Randomness](../scientific/randomness.ipynb)"
   ]
  },
  {
   "cell_type": "markdown",
   "metadata": {},
   "source": [
    "## Question 1 and 2\n",
    "\n",
    "Alice is a stock broker who owns two types of assets: A and B. She owns 100\n",
    "units of asset A and 50 units of asset B. The current interest rate is 5%.\n",
    "Each of the A assets have a remaining duration of 6 years and pay\n",
    "$ 1500 $ dollars each year while each of the B assets have a remaining duration\n",
    "of 4 years and pay $ 500 $ dollars each year (assume the first payment starts at the beginning of the\n",
    "first year and hence, should not be discounted)."
   ]
  },
  {
   "cell_type": "markdown",
   "metadata": {},
   "source": [
    "### Question 1\n",
    "\n",
    "Alice would like to retire if she\n",
    "can sell her assets for more than \\$1 million. Use vector addition, scalar\n",
    "multiplication, and dot products to determine whether she can retire."
   ]
  },
  {
   "cell_type": "code",
   "execution_count": 2,
   "metadata": {
    "hide-output": false
   },
   "outputs": [
    {
     "name": "stdout",
     "output_type": "stream",
     "text": [
      "Alice cannot retire. She needs $107497.29867111542 more.\n"
     ]
    }
   ],
   "source": [
    "import numpy as np\n",
    "r = 0.05\n",
    "units = np.array([100,50])\n",
    "duration = np.array([6, 4])\n",
    "dividend = np.array([1500,500])\n",
    "\n",
    "values = np.zeros(2)\n",
    "for t in range(duration.max()):\n",
    "    # we are assume that the 6 payments occur at t = 0,1,2, ..., 5\n",
    "    values += 1/(1+r)**t * (dividend*(t<duration))\n",
    "total = values @ units\n",
    "if total >= 1e6:\n",
    "    print(f\"Alice can sell for ${total} and retire\")\n",
    "else:\n",
    "    print(f\"Alice cannot retire. She needs ${1e6-total} more.\")"
   ]
  },
  {
   "cell_type": "markdown",
   "metadata": {},
   "source": [
    "### Question 2\n",
    "\n",
    "Consider if Alice had several alternate portfolios and decide which is the most valuable.\n",
    "Use a matrix product to simultaneously calculate the values of each portfolio,\n",
    "as we did in the lecture notes.\n",
    "\n",
    "- Portfolio 1: 100 units of A, 40 units of B  \n",
    "- Portfolio 2: 50 units of A, 150 units of B  \n",
    "- Portfolio 3: 120 units of A, 0 units of B  "
   ]
  },
  {
   "cell_type": "code",
   "execution_count": 3,
   "metadata": {
    "hide-output": false
   },
   "outputs": [
    {
     "name": "stdout",
     "output_type": "stream",
     "text": [
      "[873886.46118203 678954.3525001  959305.80071355]\n"
     ]
    }
   ],
   "source": [
    "units = np.array([[100,40],[50,150],[120,0]])\n",
    "totals = units @ values\n",
    "print(totals)"
   ]
  },
  {
   "cell_type": "markdown",
   "metadata": {},
   "source": [
    "## Question 3\n",
    "\n",
    "As in [Applied Linear Algebra](../scientific/applied_linalg.ipynb):\n",
    "\n",
    "Consider an economy where in any given year, $ \\alpha = 3\\% $ of workers lose their jobs and\n",
    "$ \\phi = 12\\% $ of unemployed workers find jobs.\n",
    "\n",
    "Define the vector $ x_0 = \\begin{bmatrix} 600,000 & 200,000 \\end{bmatrix} $ as the number of\n",
    "employed and unemployed workers (respectively) at time $ 0 $ in the economy.\n",
    "\n",
    "Adapting the code from the lecture notes, plot the unemployment rate over time in this economy for $ t = 0, \\ldots 20 $ (i.e. number of employed over total number of workers)."
   ]
  },
  {
   "cell_type": "code",
   "execution_count": 27,
   "metadata": {
    "hide-output": false
   },
   "outputs": [
    {
     "data": {
      "image/png": "[encoded data removed]",
      "text/plain": [
       "<Figure size 432x288 with 1 Axes>"
      ]
     },
     "metadata": {
      "needs_background": "light"
     },
     "output_type": "display_data"
    }
   ],
   "source": [
    "import matplotlib.pyplot as plt\n",
    "x0 = np.array([600_000, 200_000])\n",
    "alpha = 0.03\n",
    "phi = 0.12\n",
    "P = np.array([[1-alpha, alpha],[phi, 1-phi]])\n",
    "\n",
    "def simmarkov(P,x0,T=20):\n",
    "    t = range(T+1)\n",
    "    x = np.zeros((T+1,len(x0)))\n",
    "    x[0,:] = x0\n",
    "    for t in range(1,T+1):\n",
    "        x[t,:] = P.T @ x[t-1,:]\n",
    "        #print(t, x[t,:])\n",
    "    return(x)\n",
    "\n",
    "def plotmarkov(P,x0,T=20):\n",
    "    fig,ax = plt.subplots()\n",
    "    x = simmarkov(P,x0,T)\n",
    "    ax.plot(range(T+1),x/x0.sum())\n",
    "    ax.set_xlabel(\"t\")\n",
    "    ax.legend([\"Employed\", \"Unemployed\"])\n",
    "    \n",
    "plotmarkov(P,x0,20)\n"
   ]
  },
  {
   "cell_type": "markdown",
   "metadata": {},
   "source": [
    "Continue the simulation for 1000 periods to find a long-run unemployment rate."
   ]
  },
  {
   "cell_type": "code",
   "execution_count": null,
   "metadata": {},
   "outputs": [],
   "source": []
  },
  {
   "cell_type": "code",
   "execution_count": 18,
   "metadata": {
    "hide-output": false
   },
   "outputs": [
    {
     "data": {
      "image/png": "[encoded data removed]",
      "text/plain": [
       "<Figure size 432x288 with 1 Axes>"
      ]
     },
     "metadata": {
      "needs_background": "light"
     },
     "output_type": "display_data"
    }
   ],
   "source": [
    "plotmarkov(P,x0,1000)"
   ]
  },
  {
   "cell_type": "markdown",
   "metadata": {},
   "source": [
    "Adapt the lecture notes code to use the matrix you set up for the evolution equation, and\n",
    "find the (left) eigenvector associated with the unit eigenvalue.  Rescale this as required (i.e.\n",
    "it is only unique up to a scaling parameter) to find the stationary unemployment rate. Compare to the simulated\n",
    "one."
   ]
  },
  {
   "cell_type": "code",
   "execution_count": 19,
   "metadata": {
    "hide-output": false
   },
   "outputs": [
    {
     "name": "stdout",
     "output_type": "stream",
     "text": [
      "[0.8 0.2]\n",
      "[640000. 160000.]\n"
     ]
    }
   ],
   "source": [
    "evals, evecs = np.linalg.eig(P.T)\n",
    "p = evecs[:,(evals == 1)]\n",
    "p /= p.sum()\n",
    "p = p.reshape(2)\n",
    "print(p)\n",
    "print(p*x0.sum())"
   ]
  },
  {
   "cell_type": "markdown",
   "metadata": {},
   "source": [
    "## Question 4\n",
    "\n",
    "Adapt our unemployment example to add in an additional category: a probationary period where a firm is deciding if they want to make\n",
    "an employee a permanent offer.  Now, in any given year\n",
    "-  $ \\alpha = 3\\% $ of workers with full job offers lose their jobs.\n",
    "-  $ \\phi = 12\\% $ of unemployed workers find a “probationary” job (i.e., they cannot get the permanent job directly).\n",
    "-  Probation lasts for exactly an entire period, at which point $ \\lambda = 60\\% $ of the employees get a permanent job offer, while the remainder become unemployed.\n",
    "\n",
    "Define the vector $ x_0 = \\begin{bmatrix} 600,000 & 200,000 & 100,000\\end{bmatrix} $ as the number of\n",
    "fully employed, unemployed, and probationary workers (respectively) at time $ 0 $ in the economy.\n",
    "\n",
    "Adapting the code from the lecture notes, plot the mass of all three types of employment situations in this economy for $ t = 0, \\ldots 20 $."
   ]
  },
  {
   "cell_type": "code",
   "execution_count": 28,
   "metadata": {
    "hide-output": false
   },
   "outputs": [
    {
     "data": {
      "image/png": "[encoded data removed]",
      "text/plain": [
       "<Figure size 432x288 with 1 Axes>"
      ]
     },
     "metadata": {
      "needs_background": "light"
     },
     "output_type": "display_data"
    }
   ],
   "source": [
    "lam = 0.60\n",
    "P = np.array([[1-alpha, alpha, 0.0],\n",
    "              [0.0, 1-phi, phi],\n",
    "              [lam, 1-lam, 0.0]])\n",
    "x0 = np.array([600_000, 200_000, 100_000])\n",
    "\n",
    "plotmarkov(P,x0, 20)"
   ]
  },
  {
   "cell_type": "markdown",
   "metadata": {},
   "source": [
    "## Question 5\n",
    "\n",
    "Wikipedia and other credible statistics sources tell us that the mean and\n",
    "variance of the Uniform(0, 1) distribution are (1/2, 1/12) respectively.\n",
    "\n",
    "How could we check whether the numpy random numbers approximate these\n",
    "values? (*hint*: some functions in [Introduction to Numpy](../scientific/numpy_arrays.ipynb) and [Randomness](../scientific/randomness.ipynb) might be useful)"
   ]
  },
  {
   "cell_type": "code",
   "execution_count": 21,
   "metadata": {
    "hide-output": false
   },
   "outputs": [
    {
     "name": "stdout",
     "output_type": "stream",
     "text": [
      "0.00037579204816418077\n",
      "0.00010145213280854382\n"
     ]
    }
   ],
   "source": [
    "# your code here\n",
    "S = 100_000\n",
    "print(np.mean(np.random.rand(S))-1/2)\n",
    "print(np.var(np.random.rand(S))-1/12)\n"
   ]
  },
  {
   "cell_type": "markdown",
   "metadata": {},
   "source": [
    "## Question 6\n",
    "\n",
    "Assume you have been given the opportunity to choose between one of three financial assets.\n",
    "\n",
    "You will be given the asset for free, allowed to hold it indefinitely, and will keep all payoffs.\n",
    "\n",
    "Also assume the assets’ payoffs are distributed as follows (the notations are the same as in “Continuous Distributions” subsection of [Randomness](../scientific/randomness.ipynb)):\n",
    "\n",
    "1. Normal with $ \\mu = 10, \\sigma = 5 $  \n",
    "1. Gamma with $ k = 5.3, \\theta = 2 $  \n",
    "1. Gamma with $ k = 5, \\theta = 2 $  \n",
    "\n",
    "\n",
    "Use `scipy.stats` to answer the following questions:\n",
    "\n",
    "- Which asset has the highest average returns?  \n",
    "- Which asset has the highest median returns?  \n",
    "- Which asset has the lowest coefficient of variation, i.e., standard deviation divided by mean? (This measure is similar to “Sharpe Ratio”)  \n",
    "- Which asset would you choose? Why? (There is not a single right answer here. Just be creative and express your preferences.)  \n",
    "\n",
    "\n",
    "You can find the official documentation of `scipy.stats` [here](https://docs.scipy.org/doc/scipy/reference/stats.html)"
   ]
  },
  {
   "cell_type": "code",
   "execution_count": 26,
   "metadata": {
    "hide-output": false
   },
   "outputs": [
    {
     "name": "stdout",
     "output_type": "stream",
     "text": [
      "[10.0, 10.6, 10.0]\n",
      "[10.0, 9.941306258096537, 9.34181776559197]\n",
      "[0.5, 0.43437224276306935, 0.447213595499958]\n"
     ]
    }
   ],
   "source": [
    "# your code here\n",
    "import scipy.stats\n",
    "distributions = [scipy.stats.norm(10.0,5.0), \n",
    "                scipy.stats.gamma(5.3, scale=2.0),\n",
    "                scipy.stats.gamma(5.0, scale=2.0)]\n",
    "\n",
    "print([d.mean() for d in distributions])\n",
    "print([d.median() for d in distributions])\n",
    "print([d.std()/d.mean() for d in distributions])\n"
   ]
  },
  {
   "cell_type": "markdown",
   "metadata": {},
   "source": [
    "## Question 7\n",
    "\n",
    "Let’s revisit the unemployment example from the [Applied Linear Algebra](../scientific/applied_linalg.ipynb).\n",
    "\n",
    "We’ll repeat necessary details here.\n",
    "\n",
    "Consider an economy where in any given year, $ \\alpha = 5\\% $ of workers lose their jobs, and\n",
    "$ \\phi = 10\\% $ of unemployed workers find jobs.\n",
    "\n",
    "Initially, 90% of the 1,000,000 workers are employed.\n",
    "\n",
    "Suppose that the average employed worker earns 10 dollars while an unemployed worker\n",
    "earns 1 dollar per period.\n",
    "\n",
    "With this, do the following:\n",
    "\n",
    "- Represent this problem as a Markov chain by defining the three components defined above  "
   ]
  },
  {
   "cell_type": "code",
   "execution_count": 10,
   "metadata": {
    "hide-output": false
   },
   "outputs": [],
   "source": [
    "# define components here"
   ]
  },
  {
   "cell_type": "markdown",
   "metadata": {},
   "source": [
    "- Construct an instance of the QuantEcon MarkovChain using the objects defined in part 1.  "
   ]
  },
  {
   "cell_type": "code",
   "execution_count": 11,
   "metadata": {
    "hide-output": false
   },
   "outputs": [],
   "source": [
    "# construct the Markov chain"
   ]
  },
  {
   "cell_type": "markdown",
   "metadata": {},
   "source": [
    "- Simulate the Markov chain 5 times for 50 time periods starting from an employment state and plot the chains over time (see helper code below).  "
   ]
  },
  {
   "cell_type": "code",
   "execution_count": 12,
   "metadata": {
    "hide-output": false
   },
   "outputs": [],
   "source": [
    "n = 50\n",
    "M = 5\n",
    "\n",
    "# uncomment the lines below and fill in the blanks\n",
    "# sim = XXXXX.simulate(n, init = XXXXX, num_reps = M)\n",
    "# fig, ax = plt.subplots(figsize=(10, 8))\n",
    "# ax.plot(range(n), sim.T, alpha=0.4)"
   ]
  },
  {
   "cell_type": "markdown",
   "metadata": {},
   "source": [
    "- Using the approach above, simulate the Markov chain `M=20` times for 50 time periods. Instead of starting from an employment state, start off the `M` in proportion to the initial condition above (i.e. 90% of them in an employment state and 10% in an unemployment state). (Hint: you can pass a list to the `init` parameter in the `simulate` function.)  \n",
    "\n",
    "\n",
    "With this simulation, plot the average proportion of `M` agents in the employment state (i.e. it should start at 0.90 from the initial condition)."
   ]
  },
  {
   "cell_type": "code",
   "execution_count": 13,
   "metadata": {
    "hide-output": false
   },
   "outputs": [],
   "source": [
    "# define components here"
   ]
  },
  {
   "cell_type": "markdown",
   "metadata": {},
   "source": [
    "- Calculate the steady-state of the Markov chain and compare results from this simulation to the steady-state unemployment rate for the Markov chain (on a similar graph).  "
   ]
  },
  {
   "cell_type": "code",
   "execution_count": 14,
   "metadata": {
    "hide-output": false
   },
   "outputs": [],
   "source": [
    "# define components here"
   ]
  },
  {
   "cell_type": "markdown",
   "metadata": {},
   "source": [
    "- Determine the average long-run payment for a worker in this setting. (Hint: Think about the stationary distribution)  "
   ]
  },
  {
   "cell_type": "code",
   "execution_count": 15,
   "metadata": {
    "hide-output": false
   },
   "outputs": [],
   "source": [
    "# define components here\n",
    "\n",
    "# construct Markov chain\n",
    "\n",
    "\n",
    "# Long-run average payment"
   ]
  },
  {
   "cell_type": "code",
   "execution_count": null,
   "metadata": {},
   "outputs": [],
   "source": []
  },
  {
   "cell_type": "code",
   "execution_count": 16,
   "metadata": {},
   "outputs": [
    {
     "name": "stdout",
     "output_type": "stream",
     "text": [
      "False\n"
     ]
    }
   ],
   "source": [
    "N = 1000\n",
    "f = lambda x,y : x + y + 0.2\n",
    "X = np.random.rand(N)\n",
    "Y = np.random.rand(N)\n",
    "fvals = np.array([f(x,y) for x,y in zip(X,Y)])\n",
    "print(all(fvals[(X+Y<1.0)]<1))\n"
   ]
  },
  {
   "cell_type": "code",
   "execution_count": null,
   "metadata": {},
   "outputs": [],
   "source": []
  }
 ],
 "metadata": {
  "date": 1595352473.5999234,
  "download_nb": false,
  "filename": "problem_set_4.rst",
  "filename_with_path": "problem_sets/problem_set_4",
  "kernelspec": {
   "display_name": "Python 3",
   "language": "python",
   "name": "python3"
  },
  "language_info": {
   "codemirror_mode": {
    "name": "ipython",
    "version": 3
   },
   "file_extension": ".py",
   "mimetype": "text/x-python",
   "name": "python",
   "nbconvert_exporter": "python",
   "pygments_lexer": "ipython3",
   "version": "3.8.3"
  },
  "title": "Problem Set 4"
 },
 "nbformat": 4,
 "nbformat_minor": 4
}
